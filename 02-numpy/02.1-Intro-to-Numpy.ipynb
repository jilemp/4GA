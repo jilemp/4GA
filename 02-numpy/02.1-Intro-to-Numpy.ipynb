{
  "cells": [
    {
      "cell_type": "markdown",
      "id": "bdfbcacc",
      "metadata": {
        "id": "bdfbcacc"
      },
      "source": [
        "![NumPy logo](https://github.com/4GeeksAcademy/machine-learning-prework/blob/main/02-numpy/assets/numpy_logo.png?raw=true)\n",
        "\n",
        "## Introduction to NumPy\n",
        "\n",
        "**NumPy** means **Numerical Python**. It is an open-source library used to perform mathematical tasks with very high efficiency. In addition, it introduces data structures, such as multidimensional arrays, which can be operated on at a high level, without getting too much into the details.\n",
        "\n",
        "Specifically, the keys to this library are:\n",
        "\n",
        "- **Multidimensional arrays**: This library provides an object called `ndarray`, which allows you to store and manipulate large data sets efficiently. Arrays can have any number of dimensions.\n",
        "- **Vectorized operations**: NumPy allows performing mathematical operations on complete arrays without the need for explicit loops in the code, which makes it very fast and efficient.\n",
        "- **Mathematical functions**: NumPy provides a wide range of mathematical functions for working with arrays, including trigonometric functions, statistics, and linear algebra, among others.\n",
        "- **Efficiency**: It is much faster than the same functionality implemented directly on native Python. It is also very flexible in terms of accessing and manipulating individual elements or subsets of arrays.\n",
        "\n",
        "NumPy is a fundamental library for Machine Learning and data science in Python. It provides a wide range of tools and functions to work efficiently with numerical data in the form of arrays and matrices."
      ]
    },
    {
      "cell_type": "markdown",
      "id": "dc410026",
      "metadata": {
        "id": "dc410026"
      },
      "source": [
        "### Arrays\n",
        "\n",
        "A NumPy **array** is a data structure that allows you to store a collection of elements, usually numbers, in one or more dimensions.\n",
        "\n",
        "#### One-dimensional Array\n",
        "\n",
        "A one-dimensional (1D) array in NumPy is a data structure that contains a sequence of elements in a single dimension. It is similar to a list in Python, but with the performance and functionality advantages offered by NumPy.\n",
        "\n",
        "![One dimensional array](https://github.com/4GeeksAcademy/machine-learning-prework/blob/main/02-numpy/assets/1D.png?raw=true \"1D\")\n",
        "\n",
        "A 1D array can be created using the `array` function of the library with a list of elements as an argument. For example:"
      ]
    },
    {
      "cell_type": "code",
      "execution_count": 180,
      "id": "d8a0686b",
      "metadata": {
        "colab": {
          "base_uri": "https://localhost:8080/"
        },
        "id": "d8a0686b",
        "outputId": "0f5e24d8-69fb-41f2-d96e-6f69b35ce634"
      },
      "outputs": [
        {
          "data": {
            "text/plain": [
              "array([1, 2, 3, 4, 5])"
            ]
          },
          "execution_count": 180,
          "metadata": {},
          "output_type": "execute_result"
        }
      ],
      "source": [
        "import numpy as np\n",
        "\n",
        "array = np.array([1, 2, 3, 4, 5])\n",
        "array"
      ]
    },
    {
      "cell_type": "markdown",
      "id": "e090f7a0",
      "metadata": {
        "id": "e090f7a0"
      },
      "source": [
        "This will create a 1D array with elements 1, 2, 3, 4 and 5. The array elements must be of the same data type. If the elements are of different types, NumPy will try to convert them to the same type if possible.\n",
        "\n",
        "In a 1D array, we can access the elements using **indexes**, modify them and perform mathematical operations on the whole array efficiently. Below are some operations that can be performed using the above array:"
      ]
    },
    {
      "cell_type": "code",
      "execution_count": 181,
      "id": "a56cb1b0",
      "metadata": {
        "id": "a56cb1b0",
        "outputId": "2b4d479b-8cc8-479f-f91d-ccd8d9a6d240"
      },
      "outputs": [
        {
          "name": "stdout",
          "output_type": "stream",
          "text": [
            "3\n",
            "[1 7 3 4 5]\n",
            "[11 17 13 14 15]\n",
            "70\n"
          ]
        }
      ],
      "source": [
        "# Access the third element\n",
        "print(array[2])\n",
        "\n",
        "# Change the value of the second element\n",
        "array[1] = 7\n",
        "print(array)\n",
        "\n",
        "# Add 10 to all elements\n",
        "array += 10\n",
        "print(array)\n",
        "\n",
        "# Calculate the sum of the elements\n",
        "sum_all = np.sum(array)\n",
        "print(sum_all)"
      ]
    },
    {
      "cell_type": "markdown",
      "id": "322771b1",
      "metadata": {
        "id": "322771b1"
      },
      "source": [
        "#### N-dimensional Array\n",
        "\n",
        "A multidimensional or n-dimensional array in NumPy is a data structure that organizes elements in multiple dimensions (axes). These arrays allow you to represent more complex data structures, such as matrixes (2D array, 2 axes), tensors (3D array, 3 axes) and higher-dimensional structures.\n",
        "\n",
        "![Arrays of different dimensions](https://github.com/4GeeksAcademy/machine-learning-prework/blob/main/02-numpy/assets/3D.png?raw=true \"3D\")\n",
        "\n",
        "An N-dimensional array can also be created using the `array` function of the library. For example, if we want to create a 2D array:"
      ]
    },
    {
      "cell_type": "code",
      "execution_count": 182,
      "id": "2033ba3c",
      "metadata": {
        "id": "2033ba3c",
        "outputId": "6a2edf27-b877-4245-cb81-8613512d1fe8"
      },
      "outputs": [
        {
          "data": {
            "text/plain": [
              "array([[1, 2, 3],\n",
              "       [4, 5, 6],\n",
              "       [7, 8, 9]])"
            ]
          },
          "execution_count": 182,
          "metadata": {},
          "output_type": "execute_result"
        }
      ],
      "source": [
        "array_2d = np.array([[1, 2, 3], [4, 5, 6], [7, 8, 9]])\n",
        "array_2d"
      ]
    },
    {
      "cell_type": "markdown",
      "id": "d3dac6c2",
      "metadata": {
        "id": "d3dac6c2"
      },
      "source": [
        "If we now wanted to create a 3D array, we would have to think of it as a list of arrays:"
      ]
    },
    {
      "cell_type": "code",
      "execution_count": 183,
      "id": "bc914841",
      "metadata": {
        "id": "bc914841",
        "outputId": "3256dbbc-7933-4a84-e06a-1c12171cc3e2"
      },
      "outputs": [
        {
          "data": {
            "text/plain": [
              "array([[[1, 2],\n",
              "        [3, 4]],\n",
              "\n",
              "       [[5, 6],\n",
              "        [7, 8]]])"
            ]
          },
          "execution_count": 183,
          "metadata": {},
          "output_type": "execute_result"
        }
      ],
      "source": [
        "array_3d = np.array([[[1, 2], [3, 4]], [[5, 6], [7, 8]]])\n",
        "array_3d"
      ]
    },
    {
      "cell_type": "markdown",
      "id": "da7bcb64",
      "metadata": {
        "id": "da7bcb64"
      },
      "source": [
        "As with 1D arrays, the elements in a multidimensional array are accessible via indexes, operations can be performed on them, and so on.\n",
        "\n",
        "As we add more dimensions, the basic principle remains the same: each additional dimension can be considered an additional level of nesting. However, on a practical level, working with arrays of more than 3 or 4 dimensions can become more complex and less intuitive.\n",
        "\n",
        "The n-dimensional arrays in NumPy allow great flexibility and power to represent and manipulate data in more complex ways, especially useful in fields such as data science, image processing and deep learning."
      ]
    },
    {
      "cell_type": "markdown",
      "id": "d699ac98",
      "metadata": {
        "id": "d699ac98"
      },
      "source": [
        "### Functions\n",
        "\n",
        "NumPy provides a large number of predefined functions that can be applied directly to the data structures seen above or to Python's own data structures (lists, arrays, etc.). Some of the most commonly used in data analysis are:"
      ]
    },
    {
      "cell_type": "code",
      "execution_count": 184,
      "id": "e7680306",
      "metadata": {
        "id": "e7680306",
        "outputId": "8b6a3971-9893-425c-89c2-ae1d25eb4321"
      },
      "outputs": [
        {
          "name": "stdout",
          "output_type": "stream",
          "text": [
            "Sum: [ 6  7  8  9 10]\n",
            "Product: [ 3  6  9 12 15]\n",
            "Natural logarithm: [0.         0.69314718 1.09861229 1.38629436 1.60943791]\n",
            "Exponential: [  2.71828183   7.3890561   20.08553692  54.59815003 148.4131591 ]\n",
            "Mean: 3.0\n",
            "Median: 3.0\n",
            "Standard Deviation: 1.4142135623730951\n",
            "Variance: 2.0\n",
            "Maximum value: 5\n",
            "Maximum value index: 4\n",
            "Minimum value: 1\n",
            "Minimum value index: 0\n",
            "Sum of all elements: 15\n",
            "Rounding: [1. 2. 4. 5.]\n",
            "Minor integer (floor): [1. 2. 3. 4.]\n",
            "Major integer (ceil): [2. 3. 4. 5.]\n"
          ]
        }
      ],
      "source": [
        "import numpy as np\n",
        "\n",
        "# Create an array for the example\n",
        "arr = np.array([1, 2, 3, 4, 5])\n",
        "\n",
        "# Arithmetic Operations\n",
        "print(\"Sum:\", np.add(arr, 5))\n",
        "print(\"Product:\", np.multiply(arr, 3))\n",
        "\n",
        "# Logarithmic and Exponential\n",
        "print(\"Natural logarithm:\", np.log(arr))\n",
        "print(\"Exponential:\", np.exp(arr))\n",
        "\n",
        "# Statistical Functions\n",
        "print(\"Mean:\", np.mean(arr))\n",
        "print(\"Median:\", np.median(arr))\n",
        "print(\"Standard Deviation:\", np.std(arr))\n",
        "print(\"Variance:\", np.var(arr))\n",
        "print(\"Maximum value:\", np.max(arr))\n",
        "print(\"Maximum value index:\", np.argmax(arr))\n",
        "print(\"Minimum value:\", np.min(arr))\n",
        "print(\"Minimum value index:\", np.argmin(arr))\n",
        "print(\"Sum of all elements:\", np.sum(arr))\n",
        "\n",
        "# Rounding Functions\n",
        "arr_decimal = np.array([1.23, 2.47, 3.56, 4.89])\n",
        "print(\"Rounding:\", np.around(arr_decimal))\n",
        "print(\"Minor integer (floor):\", np.floor(arr_decimal))\n",
        "print(\"Major integer (ceil):\", np.ceil(arr_decimal))"
      ]
    },
    {
      "cell_type": "markdown",
      "id": "51b5cda3",
      "metadata": {
        "id": "51b5cda3"
      },
      "source": [
        "## Exercises: Click on \"open in colab\" to start practicing\n",
        "\n",
        "> Solution: https://github.com/4GeeksAcademy/machine-learning-prework/blob/main/02-numpy/02.1-Intro-to-Numpy_solutions.ipynb\n",
        "\n",
        "### Array creation"
      ]
    },
    {
      "cell_type": "markdown",
      "id": "e3c20b3d",
      "metadata": {
        "id": "e3c20b3d"
      },
      "source": [
        "#### Exercise 01: Create a **null vector** that contains 10 elements (★☆☆)\n",
        "\n",
        "A null vector is a one-dimensional array composed of zeros (`0`).\n",
        "\n",
        "> NOTE: Check the function `np.zeros` (https://numpy.org/doc/stable/reference/generated/numpy.zeros.html)"
      ]
    },
    {
      "cell_type": "code",
      "execution_count": 185,
      "id": "8a758bcf",
      "metadata": {
        "colab": {
          "base_uri": "https://localhost:8080/"
        },
        "id": "8a758bcf",
        "outputId": "39be782c-1c72-4f29-ca8b-60be893f5188"
      },
      "outputs": [
        {
          "data": {
            "text/plain": [
              "array([0, 0, 0, 0, 0, 0, 0, 0, 0, 0])"
            ]
          },
          "execution_count": 185,
          "metadata": {},
          "output_type": "execute_result"
        }
      ],
      "source": [
        "np.zeros(10, dtype= int)"
      ]
    },
    {
      "cell_type": "markdown",
      "id": "6cbe7954",
      "metadata": {
        "id": "6cbe7954"
      },
      "source": [
        "#### Exercise 02: Create a vector of ones with 10 elements (★☆☆)\n",
        "\n",
        "> NOTE: Check the function `np.ones` (https://numpy.org/doc/stable/reference/generated/numpy.ones.html)"
      ]
    },
    {
      "cell_type": "code",
      "execution_count": 186,
      "id": "86477874",
      "metadata": {
        "colab": {
          "base_uri": "https://localhost:8080/"
        },
        "id": "86477874",
        "outputId": "ba7d2f0e-5378-47a6-96c9-7c3ebedc4df3"
      },
      "outputs": [
        {
          "data": {
            "text/plain": [
              "array([1, 1, 1, 1, 1, 1, 1, 1, 1, 1])"
            ]
          },
          "execution_count": 186,
          "metadata": {},
          "output_type": "execute_result"
        }
      ],
      "source": [
        "np.ones(10, dtype=int)"
      ]
    },
    {
      "cell_type": "markdown",
      "id": "0a708990",
      "metadata": {
        "id": "0a708990"
      },
      "source": [
        "#### Exercise 03: Investigate the `linspace` function of NumPy and create an array with 10 elements (★☆☆)\n",
        "\n",
        "> NOTE: Check the function `np.linspace` (https://numpy.org/doc/stable/reference/generated/numpy.linspace.html)"
      ]
    },
    {
      "cell_type": "code",
      "execution_count": 187,
      "id": "477e01f4",
      "metadata": {
        "colab": {
          "base_uri": "https://localhost:8080/"
        },
        "id": "477e01f4",
        "outputId": "919c9f1f-adda-42f1-d371-3c5f7dd11cf7"
      },
      "outputs": [
        {
          "data": {
            "text/plain": [
              "array([ 1,  2,  3,  4,  5,  6,  7,  8,  9, 10])"
            ]
          },
          "execution_count": 187,
          "metadata": {},
          "output_type": "execute_result"
        }
      ],
      "source": [
        "np.linspace(1, 10, 10, dtype=int)"
      ]
    },
    {
      "cell_type": "markdown",
      "id": "9794fe71",
      "metadata": {
        "id": "9794fe71"
      },
      "source": [
        "#### Exercise 04: Find several ways to generate an array with random numbers and create a 1D array and two 2D arrays (★★☆)\n",
        "\n",
        "> NOTE: Check the functions `np.random.rand` (https://numpy.org/doc/stable/reference/random/generated/numpy.random.rand.html), `np.random.randint` (https://numpy.org/doc/stable/reference/random/generated/numpy.random.randint.html) and `np.random.randn` (https://numpy.org/doc/stable/reference/random/generated/numpy.random.randn.html)"
      ]
    },
    {
      "cell_type": "code",
      "execution_count": 188,
      "id": "3d9a48a7",
      "metadata": {
        "id": "3d9a48a7"
      },
      "outputs": [
        {
          "data": {
            "text/plain": [
              "array([0.27010349, 0.97703789, 0.20010006, 0.77946302, 0.83175745,\n",
              "       0.01050106, 0.38522878, 0.70114941, 0.93207693, 0.00397616])"
            ]
          },
          "execution_count": 188,
          "metadata": {},
          "output_type": "execute_result"
        }
      ],
      "source": [
        "# 1D array of 10 numbers between 0 and 1\n",
        "np.random.rand(10)"
      ]
    },
    {
      "cell_type": "code",
      "execution_count": 189,
      "id": "3ee95f53",
      "metadata": {},
      "outputs": [
        {
          "data": {
            "text/plain": [
              "array([[0.99632898, 0.21660408, 0.60204013],\n",
              "       [0.23884997, 0.89928624, 0.77326219],\n",
              "       [0.00705405, 0.46407836, 0.90185937],\n",
              "       [0.35375792, 0.79098955, 0.05608346],\n",
              "       [0.92508302, 0.27668772, 0.95401437],\n",
              "       [0.57403358, 0.46501457, 0.06899672],\n",
              "       [0.92959399, 0.90573088, 0.81632328],\n",
              "       [0.14422399, 0.93786234, 0.28675898],\n",
              "       [0.72358414, 0.19421438, 0.92275466],\n",
              "       [0.55385928, 0.8377212 , 0.44234235]])"
            ]
          },
          "execution_count": 189,
          "metadata": {},
          "output_type": "execute_result"
        }
      ],
      "source": [
        "# 2D array of 10 components with 3 random numbers between 0 and 1 on each\n",
        "np.random.rand(10, 3)"
      ]
    },
    {
      "cell_type": "code",
      "execution_count": 190,
      "id": "13c54c20",
      "metadata": {},
      "outputs": [
        {
          "data": {
            "text/plain": [
              "array([22, 44, 79, 24, 78, 42, 89,  9, 21, 48])"
            ]
          },
          "execution_count": 190,
          "metadata": {},
          "output_type": "execute_result"
        }
      ],
      "source": [
        "# 1D array of 10 random integers between 1 and 100\n",
        "np.random.randint(1,100, 10)"
      ]
    },
    {
      "cell_type": "code",
      "execution_count": 191,
      "id": "d5e335ac",
      "metadata": {},
      "outputs": [
        {
          "data": {
            "text/plain": [
              "array([[93, 38, 62],\n",
              "       [29, 40, 75],\n",
              "       [91,  3,  5],\n",
              "       [ 2, 12, 92],\n",
              "       [20, 25, 39],\n",
              "       [69, 22, 73],\n",
              "       [99, 34, 80],\n",
              "       [24, 26, 18],\n",
              "       [39, 82, 60],\n",
              "       [34,  5, 11]])"
            ]
          },
          "execution_count": 191,
          "metadata": {},
          "output_type": "execute_result"
        }
      ],
      "source": [
        "# 2D array of 10 components with 3 random integers between 1 and 100 on each\n",
        "np.random.randint(1,100, size=(10,3))"
      ]
    },
    {
      "cell_type": "code",
      "execution_count": 192,
      "id": "63401079",
      "metadata": {},
      "outputs": [
        {
          "data": {
            "text/plain": [
              "array([ 0.85345639,  0.16151093,  2.90419829, -2.24076565, -0.11853435,\n",
              "        0.80363769,  0.01211256, -0.22012458, -0.62360284,  0.81337811])"
            ]
          },
          "execution_count": 192,
          "metadata": {},
          "output_type": "execute_result"
        }
      ],
      "source": [
        "# 1D array of 10 random floats from a normal distribution of mean 0 and variance 1\n",
        "np.random.randn(10)"
      ]
    },
    {
      "cell_type": "code",
      "execution_count": 193,
      "id": "400c5042",
      "metadata": {},
      "outputs": [
        {
          "data": {
            "text/plain": [
              "array([[ 0.15710697, -0.15134615, -0.91808341],\n",
              "       [-0.13686456,  0.65468278,  0.54302298],\n",
              "       [-1.66986192, -0.27773556, -0.33470438],\n",
              "       [-1.61879716,  0.51892185,  1.60467858],\n",
              "       [-1.2643513 , -0.05358376, -0.86624876],\n",
              "       [ 0.77860161,  0.27462408, -0.47434102],\n",
              "       [ 0.5426454 ,  1.32555929, -0.23933189],\n",
              "       [ 1.14219492,  2.59447839,  2.2748629 ],\n",
              "       [-0.93582635, -0.46755902, -0.37882873],\n",
              "       [-0.76327154,  1.19734951,  0.08823017]])"
            ]
          },
          "execution_count": 193,
          "metadata": {},
          "output_type": "execute_result"
        }
      ],
      "source": [
        "# 2D array of 10 components with 3 random floats from a normal distribution of mean 0 and variance 1\n",
        "np.random.randn(10,3)"
      ]
    },
    {
      "cell_type": "markdown",
      "id": "78a37e5c",
      "metadata": {
        "id": "78a37e5c"
      },
      "source": [
        "#### Exercise 05: Create a 5x5 identity matrix (2D array) (★☆☆)\n",
        "\n",
        "\n",
        "> NOTE: Check the function `np.eye`(https://numpy.org/devdocs/reference/generated/numpy.eye.html)"
      ]
    },
    {
      "cell_type": "code",
      "execution_count": 194,
      "id": "a6751106",
      "metadata": {
        "id": "a6751106"
      },
      "outputs": [
        {
          "data": {
            "text/plain": [
              "array([[1., 0., 0., 0., 0.],\n",
              "       [0., 1., 0., 0., 0.],\n",
              "       [0., 0., 1., 0., 0.],\n",
              "       [0., 0., 0., 1., 0.],\n",
              "       [0., 0., 0., 0., 1.]])"
            ]
          },
          "execution_count": 194,
          "metadata": {},
          "output_type": "execute_result"
        }
      ],
      "source": [
        "np.eye(5)"
      ]
    },
    {
      "cell_type": "markdown",
      "id": "08bb63e6",
      "metadata": {
        "id": "08bb63e6"
      },
      "source": [
        "#### Exercise 06: Create a 3x2 random number matrix and calculate the minimum and maximum value (★☆☆)\n",
        "\n",
        "> NOTE: Check the functions `np.min` (https://numpy.org/devdocs/reference/generated/numpy.min.html) and `np.max` (https://numpy.org/devdocs/reference/generated/numpy.max.html)"
      ]
    },
    {
      "cell_type": "code",
      "execution_count": 195,
      "id": "3214cca1",
      "metadata": {
        "id": "3214cca1"
      },
      "outputs": [
        {
          "name": "stdout",
          "output_type": "stream",
          "text": [
            "[[0.34437348 0.19354626]\n",
            " [0.85604908 0.09214858]\n",
            " [0.80135083 0.70706405]]\n",
            "Min value: 0.09214857746169958 \n",
            "Max Value: 0.856049082883549\n"
          ]
        }
      ],
      "source": [
        "matrix = np.random.rand(3,2)\n",
        "\n",
        "min_n = np.min(matrix)\n",
        "max_n = np.max(matrix)\n",
        "\n",
        "print(matrix)\n",
        "print(f\"Min value: {min_n} \\nMax Value: {max_n}\")"
      ]
    },
    {
      "cell_type": "markdown",
      "id": "57c6c275",
      "metadata": {
        "id": "57c6c275"
      },
      "source": [
        "#### Exercise 07: Create a vector of 30 elements that are random numbers and calculate the mean. (★☆☆)\n",
        "\n",
        "> NOTE: Check the function `np.mean` (https://numpy.org/doc/stable/reference/generated/numpy.mean.html)"
      ]
    },
    {
      "cell_type": "code",
      "execution_count": 196,
      "id": "cc960ba5",
      "metadata": {
        "id": "cc960ba5"
      },
      "outputs": [
        {
          "name": "stdout",
          "output_type": "stream",
          "text": [
            "[39  1 51 10 35 53  3 24 22 54 18 28 18  4  2 77 32  3 60 25 19 53 46 39\n",
            " 13 17 34 42 78 17]\n",
            "Mean value: 30.566666666666666\n"
          ]
        }
      ],
      "source": [
        "vector = np.random.randint(0,100, 30)\n",
        "vector_mean = np.mean(vector)\n",
        "\n",
        "print(vector)\n",
        "print(f\"Mean value: {vector_mean}\")"
      ]
    },
    {
      "cell_type": "markdown",
      "id": "2c801667",
      "metadata": {
        "id": "2c801667"
      },
      "source": [
        "#### Exercise 08: Converts the list `[1, 2, 3]` and the tuple `(1, 2, 3)` to arrays (★☆☆)"
      ]
    },
    {
      "cell_type": "code",
      "execution_count": 197,
      "id": "3f36c71c",
      "metadata": {
        "id": "3f36c71c"
      },
      "outputs": [
        {
          "name": "stdout",
          "output_type": "stream",
          "text": [
            "<class 'numpy.ndarray'> <class 'numpy.ndarray'>\n"
          ]
        }
      ],
      "source": [
        "l = [1,2,3]\n",
        "t = (1,2,3)\n",
        "\n",
        "l = np.array(l)\n",
        "t = np.array(t)\n",
        "\n",
        "print(type(l),\n",
        "      type(t))"
      ]
    },
    {
      "cell_type": "markdown",
      "id": "962bb9fc",
      "metadata": {
        "id": "962bb9fc"
      },
      "source": [
        "### Operations between arrays"
      ]
    },
    {
      "cell_type": "markdown",
      "id": "48d48f01",
      "metadata": {
        "id": "48d48f01"
      },
      "source": [
        "#### Exercise 09: Invert the vector of the previous exercise (★☆☆)\n",
        "\n",
        "> NOTE: Check the function `np.flip` (https://numpy.org/doc/stable/reference/generated/numpy.flip.html)"
      ]
    },
    {
      "cell_type": "code",
      "execution_count": 198,
      "id": "d3e13052",
      "metadata": {
        "id": "d3e13052"
      },
      "outputs": [
        {
          "data": {
            "text/plain": [
              "array([3, 2, 1])"
            ]
          },
          "execution_count": 198,
          "metadata": {},
          "output_type": "execute_result"
        }
      ],
      "source": [
        "np.flip(l)"
      ]
    },
    {
      "cell_type": "markdown",
      "id": "233addce",
      "metadata": {
        "id": "233addce"
      },
      "source": [
        "#### Exercise 10: Change the size of a random array of dimensions 5x12 into 12x5 (★☆☆)\n",
        "\n",
        "> NOTE: Check the function `np.reshape` (https://numpy.org/doc/stable/reference/generated/numpy.reshape.html)"
      ]
    },
    {
      "cell_type": "code",
      "execution_count": 199,
      "id": "bfaed09f",
      "metadata": {
        "id": "bfaed09f"
      },
      "outputs": [
        {
          "data": {
            "text/plain": [
              "array([[ 2,  9, 32, 39, 40, 74, 14, 26, 32, 23, 97,  5],\n",
              "       [ 2, 20, 17, 28,  5, 81, 46,  8, 52, 70, 67, 69],\n",
              "       [80, 29, 61, 27, 74, 97, 24, 47, 71, 69, 52, 46],\n",
              "       [95, 63, 89, 13, 77, 47,  3, 56, 90, 66, 35, 47],\n",
              "       [12, 59, 12, 39, 80, 72, 92, 92, 44, 71, 54, 40]])"
            ]
          },
          "execution_count": 199,
          "metadata": {},
          "output_type": "execute_result"
        }
      ],
      "source": [
        "e10_matrix = np.random.randint(0, 100, size=(5,12))\n",
        "\n",
        "e10_matrix"
      ]
    },
    {
      "cell_type": "code",
      "execution_count": 200,
      "id": "393d1b51",
      "metadata": {},
      "outputs": [
        {
          "data": {
            "text/plain": [
              "array([[ 2,  9, 32, 39, 40],\n",
              "       [74, 14, 26, 32, 23],\n",
              "       [97,  5,  2, 20, 17],\n",
              "       [28,  5, 81, 46,  8],\n",
              "       [52, 70, 67, 69, 80],\n",
              "       [29, 61, 27, 74, 97],\n",
              "       [24, 47, 71, 69, 52],\n",
              "       [46, 95, 63, 89, 13],\n",
              "       [77, 47,  3, 56, 90],\n",
              "       [66, 35, 47, 12, 59],\n",
              "       [12, 39, 80, 72, 92],\n",
              "       [92, 44, 71, 54, 40]])"
            ]
          },
          "execution_count": 200,
          "metadata": {},
          "output_type": "execute_result"
        }
      ],
      "source": [
        "e10_matrix_reshaped = np.reshape(e10_matrix,newshape=(12,5))\n",
        "\n",
        "e10_matrix_reshaped"
      ]
    },
    {
      "cell_type": "markdown",
      "id": "645e5381",
      "metadata": {
        "id": "645e5381"
      },
      "source": [
        "#### Exercise 11: Convert the list `[1, 2, 0, 0, 0, 4, 0]` into an array and get the index of the non-zero elements (★★☆)\n",
        "\n",
        "> NOTE: Check the function `np.where` (https://numpy.org/devdocs/reference/generated/numpy.where.html)"
      ]
    },
    {
      "cell_type": "code",
      "execution_count": 201,
      "id": "b2652fee",
      "metadata": {
        "id": "b2652fee"
      },
      "outputs": [
        {
          "data": {
            "text/plain": [
              "(array([0, 1, 5], dtype=int64),)"
            ]
          },
          "execution_count": 201,
          "metadata": {},
          "output_type": "execute_result"
        }
      ],
      "source": [
        "e11_array = np.array([1,2,0,0,0,4,0])\n",
        "\n",
        "indices = np.where(e11_array)\n",
        "\n",
        "indices"
      ]
    },
    {
      "cell_type": "markdown",
      "id": "e7948dbb",
      "metadata": {
        "id": "e7948dbb"
      },
      "source": [
        "#### Exercise 12: Convert the list `[0, 5, -1, 3, 15]` into an array, multiply its values by `-2` and obtain the even elements (★★☆)"
      ]
    },
    {
      "cell_type": "code",
      "execution_count": 202,
      "id": "cNTexYJBdwuL",
      "metadata": {
        "id": "cNTexYJBdwuL"
      },
      "outputs": [
        {
          "data": {
            "text/plain": [
              "array([0, -10, 2, -6, -30], dtype=object)"
            ]
          },
          "execution_count": 202,
          "metadata": {},
          "output_type": "execute_result"
        }
      ],
      "source": [
        "e12_array = np.array([0, 5, (-1), 3, 15])\n",
        "e12_array = e12_array*(-2)\n",
        "\n",
        "np.where(e12_array%2 == 0, e12_array, None)"
      ]
    },
    {
      "cell_type": "markdown",
      "id": "a90d6f3e",
      "metadata": {
        "id": "a90d6f3e"
      },
      "source": [
        "#### Exercise 13: Create a random vector of 10 elements and order it from smallest to largest (★★☆)\n",
        "\n",
        "> NOTE: Check the function `np.sort` (https://numpy.org/doc/stable/reference/generated/numpy.sort.html)"
      ]
    },
    {
      "cell_type": "code",
      "execution_count": 203,
      "id": "bc373a83",
      "metadata": {
        "id": "bc373a83"
      },
      "outputs": [
        {
          "name": "stdout",
          "output_type": "stream",
          "text": [
            "Original array: [1 7 3 1 7 0 5 9 9 0]\n",
            "Sorted array: [0 0 1 1 3 5 7 7 9 9]\n"
          ]
        }
      ],
      "source": [
        "e13_array = np.random.randint(0,10,10)\n",
        "e13_array_sorted = np.sort(e13_array)\n",
        "\n",
        "print(f\"Original array: {e13_array}\\nSorted array: {e13_array_sorted}\")\n"
      ]
    },
    {
      "cell_type": "markdown",
      "id": "5e9b6115",
      "metadata": {
        "id": "5e9b6115"
      },
      "source": [
        "#### Exercise 14: Generate two random vectors of 8 elements and apply the operations of addition, subtraction and multiplication between them (★★☆)\n",
        "\n",
        "> NOTE: Check the math module functions: https://numpy.org/doc/stable/reference/routines.math.html"
      ]
    },
    {
      "cell_type": "code",
      "execution_count": 204,
      "id": "cc77e421",
      "metadata": {
        "id": "cc77e421"
      },
      "outputs": [
        {
          "name": "stdout",
          "output_type": "stream",
          "text": [
            "Vector 1: [ 8  6  8  7 10  1  8  1]\n",
            "Vector 2: [ 9  2  1  6  6  2  1 10]\n",
            "Addition: [17  8  9 13 16  3  9 11]\n",
            "Subtraction: [-1  4  7  1  4 -1  7 -9]\n",
            "Product: [72 12  8 42 60  2  8 10]\n"
          ]
        }
      ],
      "source": [
        "e14_v1 = np.random.randint(0,11,8)\n",
        "e14_v2 = np.random.randint(0,11,8)\n",
        "\n",
        "print(f\"Vector 1: {e14_v1}\\nVector 2: {e14_v2}\")\n",
        "\n",
        "addition = e14_v1 + e14_v2\n",
        "subtraction = e14_v1 - e14_v2 \n",
        "product = e14_v1*e14_v2\n",
        "\n",
        "print(f\"Addition: {addition}\\nSubtraction: {subtraction}\\nProduct: {product}\")\n",
        "\n"
      ]
    },
    {
      "cell_type": "markdown",
      "id": "c8e8daa0",
      "metadata": {
        "id": "c8e8daa0"
      },
      "source": [
        "#### Exercise 15: Convert the list `[1, 2, 3, 4, 5, 6, 7, 8, 9, 10, 11, 12]` into an array and transform it into a matrix with rows of 3 columns (★★★)"
      ]
    },
    {
      "cell_type": "code",
      "execution_count": 205,
      "id": "Ft6X6PoqdwuS",
      "metadata": {
        "id": "Ft6X6PoqdwuS"
      },
      "outputs": [
        {
          "data": {
            "text/plain": [
              "array([ 1,  2,  3,  4,  5,  6,  7,  8,  9, 10, 11, 12])"
            ]
          },
          "execution_count": 205,
          "metadata": {},
          "output_type": "execute_result"
        }
      ],
      "source": [
        "l = [1, 2, 3, 4, 5, 6, 7, 8, 9, 10, 11, 12]\n",
        "e15_array = np.array(l)\n",
        "e15_array"
      ]
    },
    {
      "cell_type": "code",
      "execution_count": 206,
      "id": "5f49b35b",
      "metadata": {},
      "outputs": [
        {
          "data": {
            "text/plain": [
              "array([[ 1,  2,  3],\n",
              "       [ 4,  5,  6],\n",
              "       [ 7,  8,  9],\n",
              "       [10, 11, 12]])"
            ]
          },
          "execution_count": 206,
          "metadata": {},
          "output_type": "execute_result"
        }
      ],
      "source": [
        "e15_array_reshaped = np.reshape(e15_array, newshape=(4,3))\n",
        "e15_array_reshaped"
      ]
    }
  ],
  "metadata": {
    "colab": {
      "provenance": []
    },
    "kernelspec": {
      "display_name": "Python 3",
      "language": "python",
      "name": "python3"
    },
    "language_info": {
      "codemirror_mode": {
        "name": "ipython",
        "version": 3
      },
      "file_extension": ".py",
      "mimetype": "text/x-python",
      "name": "python",
      "nbconvert_exporter": "python",
      "pygments_lexer": "ipython3",
      "version": "3.11.5"
    }
  },
  "nbformat": 4,
  "nbformat_minor": 5
}
